{
 "cells": [
  {
   "cell_type": "code",
   "execution_count": 13,
   "id": "2c021333-ab3b-4f8d-8c1d-bff3f9deba7c",
   "metadata": {},
   "outputs": [
    {
     "name": "stdout",
     "output_type": "stream",
     "text": [
      "300   15\n"
     ]
    }
   ],
   "source": [
    "# Q1.Create a vehicle class with an init method having instance variables as name_of_vehicle, max_speed and average_of_vehicle.\n",
    "\n",
    "class Vehicle:\n",
    "\n",
    "    def __init__(self, max_speed, mileage):\n",
    "        self.max_speed = max_speed\n",
    "        self.mileage = mileage\n",
    "        \n",
    "bmw = Vehicle(300,15)\n",
    "print(bmw.max_speed ,\" \" ,bmw.mileage)\n",
    "\n"
   ]
  },
  {
   "cell_type": "code",
   "execution_count": 19,
   "id": "cecac240-edd5-41e9-a077-3a68761076b4",
   "metadata": {},
   "outputs": [
    {
     "name": "stdout",
     "output_type": "stream",
     "text": [
      "name of vehicle: School Volvo  Total Bus seating_capacity is: 50\n"
     ]
    }
   ],
   "source": [
    "# Q2.Create a child class car from the vehicle class created in Que 1, which will inherit the vehicle class.Create a method \n",
    "#    named seating_capacity which takes capacity as an argument and returns the name of the vehicle and its seating capacity.\n",
    "\n",
    "class Vehicle:\n",
    "    def __init__(self, name, mileage, capacity):\n",
    "        self.name = name\n",
    "        self.mileage = mileage\n",
    "        self.capacity = capacity\n",
    "\n",
    "    def seating_capacity(self):\n",
    "        return self.capacity\n",
    "    \n",
    "class Bus(Vehicle):\n",
    "    pass\n",
    "\n",
    "School_bus = Bus(\"School Volvo\", 12, 50)\n",
    "print(\"name of vehicle:\",School_bus.name,\"\",\"Total Bus seating_capacity is:\", School_bus.seating_capacity())\n"
   ]
  },
  {
   "cell_type": "code",
   "execution_count": 27,
   "id": "1d868bb8-e81e-4248-b4ea-ea263166ae93",
   "metadata": {},
   "outputs": [
    {
     "name": "stdout",
     "output_type": "stream",
     "text": [
      "Dad sings well\n",
      "Mom codes well\n",
      "Kid loves to play\n"
     ]
    }
   ],
   "source": [
    "# Q3.What is multiple inheritance? Write a python code to demonstrate multiple inheritance.\n",
    "\n",
    "# Answer:-When a class is derived from more than one base class it is called multiple Inheritance. \n",
    "#         The derived class inherits all the features of the base case.\n",
    "\n",
    "class Dad():\n",
    "    \n",
    "    def singing(self):\n",
    "            print(\"Dad sings well\")\n",
    "\t\t\n",
    "class Mom():\n",
    "    \n",
    "    def coding(self):\n",
    "            print(\"Mom codes well\")\n",
    "        \n",
    "class Child(Dad, Mom):\n",
    "    \n",
    "\tdef playing(self):\n",
    "                print(\"Kid loves to play\")\n",
    "\n",
    "child = Child()\n",
    "\n",
    "child.singing()\n",
    "child.coding()\n",
    "child.playing()\t\t\n"
   ]
  },
  {
   "cell_type": "code",
   "execution_count": 28,
   "id": "0ec9d30d-8eab-408c-af98-ae975a86cb32",
   "metadata": {},
   "outputs": [
    {
     "name": "stdout",
     "output_type": "stream",
     "text": [
      "19\n",
      "19\n"
     ]
    }
   ],
   "source": [
    "# Q4. What are getter and setter in python? Create a class and create a getter and a setter method in this class.\n",
    "\t\n",
    "# getter:-Getters are the methods that are used in Object-Oriented Programming (OOPS) to access a class's private attributes. \n",
    "#        The setattr() function in Python corresponds to the getattr() function in Python. It alters an object's attribute values.\n",
    "#\n",
    "#setter:-The setter is a method that is used to set the property's value. It is very useful in object-oriented programming to set \n",
    "#        the value of private attributes in a class.\n",
    "\n",
    "class Javatpoint:   \n",
    "    def __init__(self, age = 0):   \n",
    "         self._age = age   \n",
    "         \n",
    "    def get_age(self):   \n",
    "        return self._age   \n",
    "      \n",
    "    def set_age(self, a):   \n",
    "        self._age = a   \n",
    "    \n",
    "John = Javatpoint()   \n",
    "     \n",
    "John.set_age(19)   \n",
    "    \n",
    "print(John.get_age())   \n",
    "    \n",
    "print(John._age)  \n"
   ]
  },
  {
   "cell_type": "code",
   "execution_count": 29,
   "id": "9fea478d-f7c5-4602-be23-e8752a1542d5",
   "metadata": {},
   "outputs": [
    {
     "name": "stdout",
     "output_type": "stream",
     "text": [
      "I eat only plants. I am vegetarian.\n",
      "I breathe oxygen.\n"
     ]
    }
   ],
   "source": [
    "# Q5.What is method overriding in python? Write a python code to demonstrate method overriding.\n",
    "\n",
    "# Answer:-Method overriding is a concept of object oriented programming that allows us to change the implementation of a \n",
    "#         function in the child class that is defined in the parent class. It is the ability of a child class to change the \n",
    "#         implementation of any method which is already provided by one of its parent class(ancestors).\n",
    "\n",
    "class Animal:\n",
    "\n",
    "\tmulticellular = True\n",
    "\teukaryotic = True\n",
    "\t\n",
    "\tdef breathe(self):\n",
    "\t    print(\"I breathe oxygen.\")\n",
    "    \n",
    "\tdef feed(self):\n",
    "\t    print(\"I eat food.\")\n",
    "\t   \t    \n",
    "class Herbivorous(Animal):\n",
    "    \n",
    "\tdef feed(self):\n",
    "\t    print(\"I eat only plants. I am vegetarian.\")\n",
    "\n",
    "herbi = Herbivorous()\n",
    "herbi.feed()\n",
    "\n",
    "herbi.breathe()\n"
   ]
  },
  {
   "cell_type": "code",
   "execution_count": null,
   "id": "0c363cf7-4cd1-45bb-9329-234d5ed7b36e",
   "metadata": {},
   "outputs": [],
   "source": []
  }
 ],
 "metadata": {
  "kernelspec": {
   "display_name": "Python 3 (ipykernel)",
   "language": "python",
   "name": "python3"
  },
  "language_info": {
   "codemirror_mode": {
    "name": "ipython",
    "version": 3
   },
   "file_extension": ".py",
   "mimetype": "text/x-python",
   "name": "python",
   "nbconvert_exporter": "python",
   "pygments_lexer": "ipython3",
   "version": "3.10.8"
  }
 },
 "nbformat": 4,
 "nbformat_minor": 5
}
